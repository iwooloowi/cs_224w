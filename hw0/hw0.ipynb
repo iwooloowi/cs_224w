{
 "cells": [
  {
   "cell_type": "code",
   "execution_count": 1,
   "metadata": {},
   "outputs": [],
   "source": [
    "from collections import Counter\n",
    "from pathlib import Path\n",
    "\n",
    "import snap\n",
    "import matplotlib.pyplot as plt\n",
    "import numpy as np"
   ]
  },
  {
   "cell_type": "markdown",
   "metadata": {},
   "source": [
    "# 1. Analyzing the Wikipedia voters network\n"
   ]
  },
  {
   "cell_type": "code",
   "execution_count": 2,
   "metadata": {
    "scrolled": true
   },
   "outputs": [],
   "source": [
    "G = snap.LoadEdgeListStr(snap.PNGraph, 'Wiki-Vote.txt', 0, 1)"
   ]
  },
  {
   "cell_type": "markdown",
   "metadata": {},
   "source": [
    "## 1.1"
   ]
  },
  {
   "cell_type": "code",
   "execution_count": 3,
   "metadata": {},
   "outputs": [
    {
     "name": "stdout",
     "output_type": "stream",
     "text": [
      "Number of Nodes: 7115\n"
     ]
    }
   ],
   "source": [
    "print(\"Number of Nodes: %d\" % G.GetNodes())"
   ]
  },
  {
   "cell_type": "markdown",
   "metadata": {},
   "source": [
    "## 1.2\n"
   ]
  },
  {
   "cell_type": "code",
   "execution_count": 4,
   "metadata": {},
   "outputs": [
    {
     "name": "stdout",
     "output_type": "stream",
     "text": [
      "Number of self edges: 0\n"
     ]
    }
   ],
   "source": [
    "Edges = G.Edges()\n",
    "self_edges_cnt = 0\n",
    "for Edge in Edges:\n",
    "    src, dst = Edge.GetSrcNId(), Edge.GetDstNId(),\n",
    "    if src == dst:\n",
    "        self_edges_cnt += 1\n",
    "\n",
    "CountSelfEdges = snap.CntSelfEdges(G)\n",
    "print(f'Number of self edges: {CountSelfEdges}')"
   ]
  },
  {
   "cell_type": "markdown",
   "metadata": {},
   "source": [
    "## 1.3"
   ]
  },
  {
   "cell_type": "code",
   "execution_count": 5,
   "metadata": {},
   "outputs": [
    {
     "name": "stdout",
     "output_type": "stream",
     "text": [
      "103689\n"
     ]
    }
   ],
   "source": [
    "Edges = G.Edges()\n",
    "dir_edges_cnt = 0\n",
    "for Edge in Edges:\n",
    "    src, dst = Edge.GetSrcNId(), Edge.GetDstNId()\n",
    "    if src != dst:\n",
    "        dir_edges_cnt += 1\n",
    "\n",
    "print(dir_edges_cnt)"
   ]
  },
  {
   "cell_type": "code",
   "execution_count": 6,
   "metadata": {},
   "outputs": [
    {
     "name": "stdout",
     "output_type": "stream",
     "text": [
      "Directed Graph: Count of unique directed edges is 103689\n"
     ]
    }
   ],
   "source": [
    "Count = snap.CntUniqDirEdges(G)\n",
    "print(\"Directed Graph: Count of unique directed edges is %d\" % Count)"
   ]
  },
  {
   "cell_type": "markdown",
   "metadata": {},
   "source": [
    "## 1.4"
   ]
  },
  {
   "cell_type": "code",
   "execution_count": 7,
   "metadata": {},
   "outputs": [
    {
     "name": "stdout",
     "output_type": "stream",
     "text": [
      "Directed Graph: Count of unique undirected edges is 100762\n"
     ]
    }
   ],
   "source": [
    "Count = snap.CntUniqUndirEdges(G)\n",
    "print(\"Directed Graph: Count of unique undirected edges is %d\" % Count)"
   ]
  },
  {
   "cell_type": "markdown",
   "metadata": {},
   "source": [
    "## 1.5"
   ]
  },
  {
   "cell_type": "code",
   "execution_count": 8,
   "metadata": {},
   "outputs": [
    {
     "name": "stdout",
     "output_type": "stream",
     "text": [
      "The number of reciprocated edges: 2927\n",
      "or\n",
      "The number of reciprocated edges: 2927\n"
     ]
    }
   ],
   "source": [
    "count = 0\n",
    "edges_set = set()\n",
    "for Edge in G.Edges():\n",
    "    src, dst = Edge.GetSrcNId(), Edge.GetDstNId()\n",
    "    res = (src, dst)\n",
    "    if (dst, src) in edges_set:\n",
    "        count += 1\n",
    "    else:\n",
    "        edges_set.add((src, dst))\n",
    "print(f'The number of reciprocated edges: {count}')\n",
    "\n",
    "print('or')\n",
    "\n",
    "count = snap.CntUniqDirEdges(G) - snap.CntUniqUndirEdges(G)\n",
    "print(f'The number of reciprocated edges: {count}')"
   ]
  },
  {
   "cell_type": "markdown",
   "metadata": {},
   "source": [
    "## 1.6"
   ]
  },
  {
   "cell_type": "code",
   "execution_count": 9,
   "metadata": {},
   "outputs": [
    {
     "name": "stdout",
     "output_type": "stream",
     "text": [
      "Directed Graph: Count of nodes with out-degree 0 is 1005\n"
     ]
    }
   ],
   "source": [
    "Count = snap.CntOutDegNodes(G, 0)\n",
    "print(\"Directed Graph: Count of nodes with out-degree 0 is %d\" % Count)"
   ]
  },
  {
   "cell_type": "markdown",
   "metadata": {},
   "source": [
    "## 1.7"
   ]
  },
  {
   "cell_type": "code",
   "execution_count": 10,
   "metadata": {},
   "outputs": [
    {
     "name": "stdout",
     "output_type": "stream",
     "text": [
      "Directed Graph: Count of nodes with in-degree 0 is 4734\n"
     ]
    }
   ],
   "source": [
    "Count = snap.CntInDegNodes(G, 0)\n",
    "print(\"Directed Graph: Count of nodes with in-degree 0 is %d\" % Count)"
   ]
  },
  {
   "cell_type": "markdown",
   "metadata": {},
   "source": [
    "## 1.8"
   ]
  },
  {
   "cell_type": "code",
   "execution_count": 11,
   "metadata": {},
   "outputs": [
    {
     "name": "stdout",
     "output_type": "stream",
     "text": [
      "The number of nodes with more than 10 outgoing edges: 1612\n"
     ]
    }
   ],
   "source": [
    "DegToCntV = snap.TIntPrV()\n",
    "snap.GetOutDegCnt(G, DegToCntV)\n",
    "count = 0\n",
    "for item in DegToCntV:\n",
    "    deg = item.GetVal1()\n",
    "    number = item.GetVal2()\n",
    "    if deg > 10:\n",
    "        count += number\n",
    "print(f'The number of nodes with more than 10 outgoing edges: {count}')"
   ]
  },
  {
   "cell_type": "markdown",
   "metadata": {},
   "source": [
    "## 1.9"
   ]
  },
  {
   "cell_type": "code",
   "execution_count": 12,
   "metadata": {},
   "outputs": [
    {
     "name": "stdout",
     "output_type": "stream",
     "text": [
      "The number of nodes with fewer than 10 incoming edges: 5165\n"
     ]
    }
   ],
   "source": [
    "DegToCntV = snap.TIntPrV()\n",
    "snap.GetInDegCnt(G, DegToCntV)\n",
    "count = 0\n",
    "for item in DegToCntV:\n",
    "    deg = item.GetVal1()\n",
    "    number = item.GetVal2()\n",
    "    if deg < 10:\n",
    "        count += number\n",
    "print(f'The number of nodes with fewer than 10 incoming edges: {count}')"
   ]
  },
  {
   "cell_type": "markdown",
   "metadata": {},
   "source": [
    "# 2. Further Analyzing the Wikipedia voters network"
   ]
  },
  {
   "cell_type": "markdown",
   "metadata": {},
   "source": [
    "## 2.1"
   ]
  },
  {
   "cell_type": "code",
   "execution_count": 13,
   "metadata": {},
   "outputs": [
    {
     "data": {
      "image/png": "[encoded data removed]",
      "text/plain": [
       "<Figure size 576x432 with 1 Axes>"
      ]
     },
     "metadata": {
      "needs_background": "light"
     },
     "output_type": "display_data"
    }
   ],
   "source": [
    "DegToCntV = snap.TIntPrV()\n",
    "snap.GetOutDegCnt(G, DegToCntV)\n",
    "x = []\n",
    "y = []\n",
    "for item in DegToCntV:\n",
    "    x.append(item.GetVal1())\n",
    "    y.append(item.GetVal2())\n",
    "\n",
    "x = x[1:]\n",
    "y = y[1:]\n",
    "fig, ax = plt.subplots(1, 1, figsize=(8, 6))\n",
    "plt.plot(x, y);\n",
    "plt.title('Distribution of out-degrees of nodes')\n",
    "plt.xlabel('Out-Degree')\n",
    "plt.ylabel('Number of Nodes')\n",
    "plt.yscale('log')\n",
    "plt.xscale('log')\n",
    "plt.show()"
   ]
  },
  {
   "cell_type": "markdown",
   "metadata": {},
   "source": [
    "## 2.2"
   ]
  },
  {
   "cell_type": "code",
   "execution_count": 14,
   "metadata": {},
   "outputs": [],
   "source": [
    "x_log = np.log10(x)\n",
    "y_log = np.log10(y)\n",
    "p = np.polyfit(x_log, y_log, deg=1)\n",
    "y_p = (np.array(x) ** p[0]) * (10 ** p[1])"
   ]
  },
  {
   "cell_type": "code",
   "execution_count": 15,
   "metadata": {},
   "outputs": [
    {
     "data": {
      "image/png": "[encoded data removed]",
      "text/plain": [
       "<Figure size 576x432 with 1 Axes>"
      ]
     },
     "metadata": {
      "needs_background": "light"
     },
     "output_type": "display_data"
    }
   ],
   "source": [
    "fig, ax = plt.subplots(1, 1, figsize=(8, 6))\n",
    "plt.plot(x, y, label='True values');\n",
    "plt.plot(x, y_p, label='Regression values')\n",
    "plt.title('Distribution of out-degrees of nodes')\n",
    "plt.xlabel('Out-Degree')\n",
    "plt.ylabel('Number of Nodes')\n",
    "plt.yscale('log')\n",
    "plt.xscale('log')\n",
    "plt.legend()\n",
    "plt.tight_layout()\n",
    "plt.show()"
   ]
  },
  {
   "cell_type": "markdown",
   "metadata": {},
   "source": [
    "# 3. Finding Experts on the Java Programming Language on StackOverflow"
   ]
  },
  {
   "cell_type": "code",
   "execution_count": 17,
   "metadata": {},
   "outputs": [],
   "source": [
    "G = snap.LoadEdgeListStr(snap.PNGraph, 'stackoverflow-Java.txt', 0, 1)"
   ]
  },
  {
   "cell_type": "markdown",
   "metadata": {},
   "source": [
    "## 3.1"
   ]
  },
  {
   "cell_type": "code",
   "execution_count": 18,
   "metadata": {},
   "outputs": [
    {
     "name": "stdout",
     "output_type": "stream",
     "text": [
      "Number of weakly connected components: 10143\n"
     ]
    }
   ],
   "source": [
    "Components = snap.TCnComV()\n",
    "snap.GetWccs(G, Components)\n",
    "print(f'Number of weakly connected components: {len(Components)}')"
   ]
  },
  {
   "cell_type": "markdown",
   "metadata": {},
   "source": [
    "## 3.2"
   ]
  },
  {
   "cell_type": "code",
   "execution_count": 19,
   "metadata": {},
   "outputs": [
    {
     "name": "stdout",
     "output_type": "stream",
     "text": [
      "In the largest weakly connected component\n",
      "The number of edges: 131188\n",
      "The number of nodes: 322486\n"
     ]
    }
   ],
   "source": [
    "MxWcc = snap.GetMxWcc(G)\n",
    "N_Nodes = MxWcc.GetNodes()\n",
    "N_Edges = MxWcc.GetEdges()\n",
    "print(f'In the largest weakly connected component\\nThe number of edges: {N_Nodes}\\nThe number of nodes: {N_Edges}')"
   ]
  },
  {
   "cell_type": "markdown",
   "metadata": {},
   "source": [
    "## 3.3"
   ]
  },
  {
   "cell_type": "code",
   "execution_count": 20,
   "metadata": {},
   "outputs": [
    {
     "name": "stdout",
     "output_type": "stream",
     "text": [
      "Node Id: 59025, PageRank: 0.013980540412209592\n",
      "Node Id: 6944, PageRank: 0.010005538895741885\n",
      "Node Id: 1027, PageRank: 0.00710353269312863\n"
     ]
    }
   ],
   "source": [
    "PRankH = snap.TIntFltH()\n",
    "PR = snap.GetPageRank(G, PRankH)\n",
    "PRankH.SortByDat(False)\n",
    "for idx, item in enumerate(PRankH):\n",
    "    if idx > 2:\n",
    "        break\n",
    "    print(f'Node Id: {item}, PageRank: {PRankH[item]}')"
   ]
  },
  {
   "cell_type": "markdown",
   "metadata": {},
   "source": [
    "## 3.4"
   ]
  },
  {
   "cell_type": "code",
   "execution_count": 21,
   "metadata": {},
   "outputs": [],
   "source": [
    "NIdHubH = snap.TIntFltH()\n",
    "NIdAuthH = snap.TIntFltH()\n",
    "snap.GetHits(G, NIdHubH, NIdAuthH)"
   ]
  },
  {
   "cell_type": "code",
   "execution_count": 22,
   "metadata": {},
   "outputs": [],
   "source": [
    "NIdHubH.SortByDat(False)\n",
    "NIdAuthH.SortByDat(False)    "
   ]
  },
  {
   "cell_type": "code",
   "execution_count": 23,
   "metadata": {},
   "outputs": [
    {
     "name": "stdout",
     "output_type": "stream",
     "text": [
      "top 3 hubs\n",
      "39488 0.07336380373389545\n",
      "52926 0.0595507441879448\n",
      "15703 0.05687564588068674\n"
     ]
    }
   ],
   "source": [
    "print('top 3 hubs')\n",
    "for i, key, in enumerate(NIdHubH):\n",
    "    print(key, NIdHubH[key])\n",
    "    if i >= 2:\n",
    "        break"
   ]
  },
  {
   "cell_type": "code",
   "execution_count": 24,
   "metadata": {},
   "outputs": [
    {
     "name": "stdout",
     "output_type": "stream",
     "text": [
      "top 3 authorities\n",
      "1027 0.0\n",
      "1594 0.005746760032688366\n",
      "25353 0.0002073792076165951\n"
     ]
    }
   ],
   "source": [
    "print('top 3 authorities')\n",
    "for i, key, in enumerate(NIdAuthH):\n",
    "    print(key, NIdHubH[key])\n",
    "    if i >= 2:\n",
    "        break"
   ]
  }
 ],
 "metadata": {
  "kernelspec": {
   "display_name": "Python 3",
   "language": "python",
   "name": "python3"
  },
  "language_info": {
   "codemirror_mode": {
    "name": "ipython",
    "version": 3
   },
   "file_extension": ".py",
   "mimetype": "text/x-python",
   "name": "python",
   "nbconvert_exporter": "python",
   "pygments_lexer": "ipython3",
   "version": "3.6.9"
  }
 },
 "nbformat": 4,
 "nbformat_minor": 2
}
