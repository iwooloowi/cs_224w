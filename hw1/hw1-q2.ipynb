{
 "cells": [
  {
   "cell_type": "code",
   "execution_count": 20,
   "metadata": {},
   "outputs": [],
   "source": [
    "import snap\n",
    "import numpy as np"
   ]
  },
  {
   "cell_type": "markdown",
   "metadata": {},
   "source": [
    "# 2 Structural Roles: Rolx and ReFex"
   ]
  },
  {
   "cell_type": "code",
   "execution_count": 16,
   "metadata": {},
   "outputs": [],
   "source": [
    "Graph = snap.TUNGraph.Load(snap.TFIn(\"hw1-q2.graph\"))"
   ]
  },
  {
   "cell_type": "markdown",
   "metadata": {},
   "source": [
    "## 2.1 Basic Features"
   ]
  },
  {
   "cell_type": "code",
   "execution_count": 21,
   "metadata": {},
   "outputs": [],
   "source": [
    "count_nodes = Graph.GetNodes()\n",
    "count_features = 3\n",
    "features = np.zeros((count_nodes, count_features))"
   ]
  },
  {
   "cell_type": "code",
   "execution_count": 28,
   "metadata": {},
   "outputs": [],
   "source": [
    "result_degree = snap.TIntV()\n",
    "snap.GetDegSeqV(Graph, result_degree)\n",
    "for i in range(0, result_degree.Len()):\n",
    "    features[i][0] = result_degree[i]"
   ]
  },
  {
   "cell_type": "code",
   "execution_count": 61,
   "metadata": {},
   "outputs": [],
   "source": [
    "for node_0 in Graph.Nodes():\n",
    "    node_id_0 = node_0.GetId()\n",
    "    neighbors = snap.TIntV()\n",
    "    snap.GetNodesAtHop(Graph, node_id_0, 1, neighbors, False)\n",
    "    neighbors.Add(node_id_0)\n",
    "\n",
    "    edges_in_egonet = 0\n",
    "    for neighbor_0 in neighbors:\n",
    "        for neighbor_1 in neighbors:\n",
    "            if Graph.IsEdge(neighbor_0, neighbor_1):\n",
    "                edges_in_egonet += 1\n",
    "    edges_in_egonet = edges_in_egonet / 2\n",
    "    features[node_id_0][1] = edges_in_egonet\n",
    "    \n",
    "    edges_egonet_rest = 0\n",
    "    for edge in Graph.Edges():\n",
    "        src_id, dst_id = edge.GetId()\n",
    "        if ((src_id in neighbors and dst_id not in neighbors) or \n",
    "            (dst_id in neighbors and src_id not in neighbors)):\n",
    "            edges_egonet_rest += 1\n",
    "    features[node_id_0][2] = edges_egonet_rest"
   ]
  },
  {
   "cell_type": "code",
   "execution_count": 67,
   "metadata": {},
   "outputs": [],
   "source": [
    "def cosine_similarity(x, y):\n",
    "    res = x.dot(y) / (np.linalg.norm(x)*np.linalg.norm(y))\n",
    "    return res"
   ]
  },
  {
   "cell_type": "code",
   "execution_count": 97,
   "metadata": {},
   "outputs": [
    {
     "name": "stderr",
     "output_type": "stream",
     "text": [
      "/home/alex/base/lib/python3.6/site-packages/ipykernel_launcher.py:4: RuntimeWarning: invalid value encountered in true_divide\n",
      "  after removing the cwd from sys.path.\n"
     ]
    }
   ],
   "source": [
    "i = 9\n",
    "x = features[i]\n",
    "res = (features.dot(x) / \n",
    "       (np.linalg.norm(features, axis=1) * np.linalg.norm(x)))\n",
    "isnan = np.isnan(res)\n",
    "res[isnan] = 0\n",
    "res = np.delete(res, i, 0)"
   ]
  },
  {
   "cell_type": "code",
   "execution_count": 102,
   "metadata": {},
   "outputs": [
    {
     "name": "stdout",
     "output_type": "stream",
     "text": [
      "Feature vector for node 9: [ 6. 10.  1.]\n",
      "Top 5 node similar no node 9:\n",
      "Node 1053: 0.9961182380000687\n",
      "Node 287: 0.996343680627828\n",
      "Node 285: 0.996343680627828\n",
      "Node 414: 0.9996157540684272\n",
      "Node 1335: 0.9961182380000687\n"
     ]
    }
   ],
   "source": [
    "top_5_sim = np.argpartition(res, -5)[-5:]\n",
    "print(f'Feature vector for node {i}: {features[i]}')\n",
    "print(f'Top 5 node similar no node {i}:')\n",
    "for node_id in top_5_sim:\n",
    "    print(f'Node {node_id}: {res[node_id]}')"
   ]
  },
  {
   "cell_type": "markdown",
   "metadata": {},
   "source": [
    "## 2.2 Recursive Features"
   ]
  },
  {
   "cell_type": "code",
   "execution_count": 136,
   "metadata": {},
   "outputs": [
    {
     "name": "stderr",
     "output_type": "stream",
     "text": [
      "/home/alex/base/lib/python3.6/site-packages/ipykernel_launcher.py:16: RuntimeWarning: Mean of empty slice.\n",
      "  app.launch_new_instance()\n"
     ]
    }
   ],
   "source": [
    "K = 2\n",
    "features_rec = np.copy(features)\n",
    "count_nodes = Graph.GetNodes()\n",
    "for i in range(K):\n",
    "    features_sum = np.zeros((count_nodes, 3**(i+1)))\n",
    "    features_mean = np.zeros((count_nodes, 3**(i+1)))\n",
    "    for node in Graph.Nodes():\n",
    "        node_id = node.GetId()\n",
    "        neighbors = snap.TIntV()\n",
    "        snap.GetNodesAtHop(Graph, node_id, 1, neighbors, False)\n",
    "        neighbors_ids = [n for n in neighbors]\n",
    "\n",
    "        mean_feat = features_rec[neighbors_ids].mean(axis=0)\n",
    "        sum_feat = features_rec[neighbors_ids].sum(axis=0)\n",
    "        features_mean[node_id] = mean_feat\n",
    "        features_sum[node_id] = sum_feat\n",
    "        \n",
    "    features_rec = np.hstack((features_rec, features_mean))\n",
    "    features_rec = np.hstack((features_rec, features_sum))\n"
   ]
  },
  {
   "cell_type": "code",
   "execution_count": 139,
   "metadata": {},
   "outputs": [],
   "source": [
    "i = 9\n",
    "x = features_rec[i]\n",
    "res = (features_rec.dot(x) / \n",
    "       (np.linalg.norm(features_rec, axis=1) * np.linalg.norm(x)))\n",
    "isnan = np.isnan(res)\n",
    "res[isnan] = 0\n",
    "res = np.delete(res, i, 0)"
   ]
  },
  {
   "cell_type": "code",
   "execution_count": 142,
   "metadata": {},
   "outputs": [
    {
     "name": "stdout",
     "output_type": "stream",
     "text": [
      "Top 5 node similar no node 9:\n",
      "Node 24: 0.9922413199302672\n",
      "Node 495: 0.9922839741918226\n",
      "Node 414: 0.993728442523926\n",
      "Node 972: 0.9959848829010806\n",
      "Node 536: 0.994613004402056\n"
     ]
    }
   ],
   "source": [
    "top_5_sim = np.argpartition(res, -5)[-5:]\n",
    "# print(f'Feature vector for node {i}: {features_rec[i]}')\n",
    "print(f'Top 5 node similar no node {i}:')\n",
    "for node_id in top_5_sim:\n",
    "    print(f'Node {node_id}: {res[node_id]}')"
   ]
  },
  {
   "cell_type": "code",
   "execution_count": null,
   "metadata": {},
   "outputs": [],
   "source": []
  }
 ],
 "metadata": {
  "kernelspec": {
   "display_name": "Python 3",
   "language": "python",
   "name": "python3"
  },
  "language_info": {
   "codemirror_mode": {
    "name": "ipython",
    "version": 3
   },
   "file_extension": ".py",
   "mimetype": "text/x-python",
   "name": "python",
   "nbconvert_exporter": "python",
   "pygments_lexer": "ipython3",
   "version": "3.6.9"
  }
 },
 "nbformat": 4,
 "nbformat_minor": 2
}
